{
 "cells": [
  {
   "cell_type": "markdown",
   "metadata": {},
   "source": [
    "# Lab 1\n",
    "(Prof. Carlos J. Costa)"
   ]
  },
  {
   "cell_type": "markdown",
   "metadata": {},
   "source": [
    "**1)**  Verify if  a value is integer"
   ]
  },
  {
   "cell_type": "code",
   "execution_count": null,
   "metadata": {},
   "outputs": [],
   "source": [
    "\n",
    "\n"
   ]
  },
  {
   "cell_type": "markdown",
   "metadata": {},
   "source": [
    "**2)** Verify if a value is even"
   ]
  },
  {
   "cell_type": "code",
   "execution_count": 8,
   "metadata": {},
   "outputs": [
    {
     "name": "stdin",
     "output_type": "stream",
     "text": [
      "Verificar se o valor inserido é par:  6\n"
     ]
    },
    {
     "name": "stdout",
     "output_type": "stream",
     "text": [
      "6\n",
      "True\n"
     ]
    }
   ],
   "source": [
    "x= int(input(\"Verificar se o valor inserido é par: \"))\n",
    "print(x)\n",
    "print(x%2 == 0)\n",
    "\n"
   ]
  },
  {
   "cell_type": "markdown",
   "metadata": {},
   "source": [
    "**3)** Insert two numbers. Is the first is bigger than the second?"
   ]
  },
  {
   "cell_type": "code",
   "execution_count": null,
   "metadata": {},
   "outputs": [],
   "source": [
    "X=int(input(\"Inserir um número: \"))\n",
    "y=int(input(\"Inserir outro número: \"))\n",
    "print(\"O primeiro número é maior que o segundo\" + str (x > y))\n"
   ]
  },
  {
   "cell_type": "markdown",
   "metadata": {},
   "source": [
    "**4)** Verify if one value is multiple of another"
   ]
  },
  {
   "cell_type": "code",
   "execution_count": 3,
   "metadata": {},
   "outputs": [
    {
     "name": "stdin",
     "output_type": "stream",
     "text": [
      "inserir um número:  4\n",
      "inserir outro número:  2\n"
     ]
    },
    {
     "name": "stdout",
     "output_type": "stream",
     "text": [
      "o valor é múltiplo do outro: True\n"
     ]
    }
   ],
   "source": [
    "x= int(input(\"inserir um número: \"))\n",
    "y= int(input(\"inserir outro número: \"))\n",
    "print(\"o valor é múltiplo do outro: \" + str(x % y == 0 or y % x ==0))"
   ]
  },
  {
   "cell_type": "markdown",
   "metadata": {},
   "source": [
    "**5)** Calculate the interest earn by an investor that \n",
    "invested a capital of 200 during 3 years with an interest rate of 3%. \n",
    "(I= P\\*R\\*T)\n"
   ]
  },
  {
   "cell_type": "code",
   "execution_count": 5,
   "metadata": {},
   "outputs": [
    {
     "name": "stdout",
     "output_type": "stream",
     "text": [
      "218.0\n"
     ]
    }
   ],
   "source": [
    "y= 3\n",
    "c= 200\n",
    "r= 0.03\n",
    "print(c+y*c*r)"
   ]
  },
  {
   "cell_type": "markdown",
   "metadata": {},
   "source": [
    "**6)** Capital that an investor obtained after \n",
    "investing a capital of 200 during 3 years with an interest rate of 3%. (Compound interest)"
   ]
  },
  {
   "cell_type": "code",
   "execution_count": 6,
   "metadata": {},
   "outputs": [
    {
     "name": "stdout",
     "output_type": "stream",
     "text": [
      "218.5454\n"
     ]
    }
   ],
   "source": [
    "y=3\n",
    "c=200\n",
    "r=0.03\n",
    "print(c*(1+r)**3)"
   ]
  },
  {
   "cell_type": "markdown",
   "metadata": {},
   "source": [
    "**7)** Calculate your BMI (Body Mass Index)  \n",
    "   \n",
    "$BMI = mass (kg)/height^2 (m)$"
   ]
  },
  {
   "cell_type": "code",
   "execution_count": 9,
   "metadata": {},
   "outputs": [
    {
     "name": "stdin",
     "output_type": "stream",
     "text": [
      "inserir peso 69\n",
      "inserir altura 1.81\n"
     ]
    },
    {
     "name": "stdout",
     "output_type": "stream",
     "text": [
      "21.06162815542871\n"
     ]
    }
   ],
   "source": [
    "m= float(input(\"inserir peso\"))\n",
    "h= float(input(\"inserir altura\"))\n",
    "bmi= m/h**2\n",
    "print(bmi)\n"
   ]
  },
  {
   "cell_type": "markdown",
   "metadata": {},
   "source": [
    "**8)** Calcule the Golden ration:   \n",
    "    \n",
    "$gr=(1+\\sqrt{5})/2$\n",
    "\n",
    "1. Solve the problem without using libraries\n",
    "2. Use module math (import math) and function sqr (math.sqrt)"
   ]
  },
  {
   "cell_type": "code",
   "execution_count": 20,
   "metadata": {},
   "outputs": [
    {
     "name": "stdout",
     "output_type": "stream",
     "text": [
      "1.618033988749895\n"
     ]
    }
   ],
   "source": [
    "import math\n",
    "gr= float(1+math.sqrt(5))/(2)\n",
    "print(gr)\n",
    "\n"
   ]
  },
  {
   "cell_type": "markdown",
   "metadata": {},
   "source": [
    "**9)** Calculete the NPV (Net present value) of an investment, considering an initial investment of 10000, the following Cashflows 2000,3000, 4000, 4000 and 5000 and a discount rate of 10%.\n",
    "\n",
    "$NPV = \\sum_{t=1}^{n}\\frac{FV_{t}}{(1 + k)^{t}} – I$\n",
    "\n",
    "Where:\n",
    "\n",
    "FV = Future cost of the cash inflows,\n",
    "I = Initial Investment\n",
    "k = Discount rate equal to the owner’s cost of capital\n"
   ]
  },
  {
   "cell_type": "code",
   "execution_count": 21,
   "metadata": {},
   "outputs": [
    {
     "name": "stdout",
     "output_type": "stream",
     "text": [
      "3139.440301519392\n"
     ]
    }
   ],
   "source": [
    "cf1= 2000\n",
    "cf2= 3000\n",
    "cf3= 4000\n",
    "cf4= 4000\n",
    "cf5= 5000\n",
    "invinicial= 10000\n",
    "r=0.1\n",
    "NPV=(cf1/(1+r))+(cf2/(1+r)**2)+(cf3/(1+r)**3)+(cf4/(1+r)**4+(cf5/(1+r)**5)- invinicial)\n",
    "print(NPV)\n",
    "\n",
    "\n",
    "\n",
    "\n",
    "\n"
   ]
  },
  {
   "cell_type": "markdown",
   "metadata": {},
   "source": [
    "**10)** Ask the user to insert name and age. Calculate the the birth. Print a result saying the 'this person was born in'\n",
    "1. Solve the problem without using modules and libraries\n",
    "2. Solve the problem using the date library from module datetime, as fallow:\n",
    "   \n",
    "```python\n",
    "from datetime import date   \n",
    "today = date.today()   \n",
    "today.year   \n",
    "```"
   ]
  },
  {
   "cell_type": "code",
   "execution_count": 26,
   "metadata": {},
   "outputs": [
    {
     "name": "stdin",
     "output_type": "stream",
     "text": [
      "Inserir o nome Diogo\n",
      "Inserir a idade 27\n"
     ]
    },
    {
     "name": "stdout",
     "output_type": "stream",
     "text": [
      "Diogo nasceu em 1994\n"
     ]
    }
   ],
   "source": [
    "from datetime import date \n",
    "today = date.today() \n",
    "nome = input(\"Inserir o nome\")\n",
    "age= int(input(\"Inserir a idade\"))\n",
    "print(nome + \" nasceu em \" + str (today.year-age))"
   ]
  },
  {
   "cell_type": "markdown",
   "metadata": {},
   "source": [
    "**11)** Ask the user to insert forenames, surnames. create a new variable (name) with your complete name.\n",
    "   \n",
    "Create the follwoing variables:   \n",
    "   \n",
    "**nameBig**, where all the characters of the name are capitalized   \n",
    "**nameTitle**, where the only the first character of each name (word) is capitalized   \n",
    "**nameSmall**, where all the characters of the name are lower   \n",
    "**nameCapitalized**, where only the first charater of the first name is capitalized   "
   ]
  },
  {
   "cell_type": "code",
   "execution_count": 29,
   "metadata": {},
   "outputs": [
    {
     "name": "stdin",
     "output_type": "stream",
     "text": [
      "Inserir o seu primeiro nome Diogo\n",
      "Inserir o seu sobrenome Duarte\n"
     ]
    },
    {
     "name": "stdout",
     "output_type": "stream",
     "text": [
      "DIOGO DUARTE\n",
      "Diogo Duarte\n",
      "diogo duarte\n",
      "Diogo duarte\n"
     ]
    }
   ],
   "source": [
    "nome = input(\"Inserir o seu primeiro nome\")\n",
    "sobrenome = input(\"Inserir o seu sobrenome\")\n",
    "nameBig = nome.upper() + \" \" + sobrenome.upper()\n",
    "nameTitle = nome.capitalize() + \" \" + sobrenome.capitalize()\n",
    "nameSmall = nome.lower() + \" \" + sobrenome.lower()\n",
    "nameCapitalized = nome.capitalize() + \" \" + sobrenome.lower()\n",
    "\n",
    "print(nameBig)\n",
    "print(nameTitle)\n",
    "print(nameSmall)\n",
    "print(nameCapitalized)\n",
    "\n"
   ]
  },
  {
   "cell_type": "markdown",
   "metadata": {},
   "source": [
    "**12)** Use the follwoing method to show where in which carater appears the firs \"da\"\n",
    "   \n",
    "```python\n",
    "str.find(sub,start,end)\n",
    "```\n",
    "   \n",
    "What happens if does not find?"
   ]
  },
  {
   "cell_type": "code",
   "execution_count": 37,
   "metadata": {},
   "outputs": [
    {
     "data": {
      "text/plain": [
       "-1"
      ]
     },
     "execution_count": 37,
     "metadata": {},
     "output_type": "execute_result"
    }
   ],
   "source": [
    "fraseprincipal = \"Final do primeiro trabalho de laboratório \"\n",
    "fraseprincipal.find(\"da\")"
   ]
  },
  {
   "cell_type": "code",
   "execution_count": null,
   "metadata": {},
   "outputs": [],
   "source": []
  }
 ],
 "metadata": {
  "kernelspec": {
   "display_name": "Python 3",
   "language": "python",
   "name": "python3"
  },
  "language_info": {
   "codemirror_mode": {
    "name": "ipython",
    "version": 3
   },
   "file_extension": ".py",
   "mimetype": "text/x-python",
   "name": "python",
   "nbconvert_exporter": "python",
   "pygments_lexer": "ipython3",
   "version": "3.8.8"
  }
 },
 "nbformat": 4,
 "nbformat_minor": 4
}
